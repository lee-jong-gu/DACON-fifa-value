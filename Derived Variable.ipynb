{
 "cells": [
  {
   "cell_type": "markdown",
   "id": "5a40eeae-c1ed-48e2-b7d7-d79b74fd8a85",
   "metadata": {
    "tags": []
   },
   "source": [
    "# 해외 축구 선수 이적료 예측 미션"
   ]
  },
  {
   "cell_type": "code",
   "execution_count": 108,
   "id": "3f6e576b-9a21-4a25-8491-4d12ff5e5cdc",
   "metadata": {},
   "outputs": [],
   "source": [
    "import pandas as pd\n",
    "import numpy as np\n",
    "import seaborn as sns\n",
    "import matplotlib.pyplot as plt\n",
    "from sklearn.preprocessing import LabelEncoder, OneHotEncoder, StandardScaler, RobustScaler\n",
    "from sklearn.model_selection import GridSearchCV, KFold, train_test_split,learning_curve\n",
    "from sklearn.tree import DecisionTreeRegressor\n",
    "from sklearn.linear_model import LogisticRegression, LinearRegression\n",
    "from sklearn.ensemble import RandomForestRegressor\n",
    "import xgboost as xgb\n",
    "# from lightgbm import LGBMRegressor\n",
    "from sklearn.model_selection import cross_val_score\n",
    "from sklearn.metrics import accuracy_score, f1_score, classification_report, confusion_matrix\n",
    "from sklearn.metrics import mean_squared_error"
   ]
  },
  {
   "cell_type": "code",
   "execution_count": 19,
   "id": "e59d606c-6b75-425f-a4bc-cbbd91ca5d9f",
   "metadata": {},
   "outputs": [],
   "source": [
    "train = pd.read_csv('FIFA_train.csv')\n",
    "test = pd.read_csv('FIFA_test.csv')\n",
    "submission = pd.read_csv('submission.csv')"
   ]
  },
  {
   "cell_type": "code",
   "execution_count": 34,
   "id": "b620bc50-06d9-4900-a0dd-b8d8373b95aa",
   "metadata": {},
   "outputs": [
    {
     "name": "stdout",
     "output_type": "stream",
     "text": [
      "train data ratio : 0.7\n",
      "test data ratio : 0.3\n"
     ]
    }
   ],
   "source": [
    "print('train data ratio :',len(train)/(len(train)+len(test)))\n",
    "print('test data ratio :',len(test)/(len(train)+len(test)))"
   ]
  },
  {
   "cell_type": "markdown",
   "id": "2c9c8bc0-ae1e-4db8-ad0a-52879adbadb2",
   "metadata": {
    "tags": []
   },
   "source": [
    "---  \n",
    "#### target data"
   ]
  },
  {
   "cell_type": "code",
   "execution_count": 34,
   "id": "fc3da873-ef98-4743-8ec0-ec7126cfebd3",
   "metadata": {},
   "outputs": [],
   "source": [
    "target = train['value'] \n",
    "train.drop('value',axis=1,inplace=True)"
   ]
  },
  {
   "cell_type": "markdown",
   "id": "11129bf0-9731-4ea8-a90e-3710d711b888",
   "metadata": {},
   "source": [
    "---"
   ]
  },
  {
   "cell_type": "markdown",
   "id": "441f5967-4a98-4272-ab21-87ba99a90902",
   "metadata": {
    "tags": []
   },
   "source": [
    "---\n",
    "#### 필요없는 변수 제거"
   ]
  },
  {
   "cell_type": "code",
   "execution_count": 21,
   "id": "287edc38-96a9-416f-acf3-51be276e4743",
   "metadata": {},
   "outputs": [],
   "source": [
    "train.drop(['id','name'],axis=1,inplace=True)\n",
    "test.drop(['id','name'],axis=1,inplace=True)"
   ]
  },
  {
   "cell_type": "markdown",
   "id": "d194fdb3-4021-4271-9618-e29bfc947245",
   "metadata": {},
   "source": [
    "---"
   ]
  },
  {
   "cell_type": "code",
   "execution_count": 22,
   "id": "720fb050-7b3d-43e3-a208-fd95e9a04995",
   "metadata": {},
   "outputs": [],
   "source": [
    "contract_train = []\n",
    "contract_test = []\n",
    "for i in train['contract_until']:\n",
    "    contract_train.append(i[-4:])\n",
    "for i in test['contract_until']:\n",
    "    contract_test.append(i[-4:])\n",
    "\n",
    "train['contract_until'] = contract_train\n",
    "test['contract_until'] = contract_test\n",
    "\n",
    "train['contract_until'] = train['contract_until'].astype('int64')\n",
    "test['contract_until'] = test['contract_until'].astype('int64')"
   ]
  },
  {
   "cell_type": "code",
   "execution_count": 13,
   "id": "b717c98a-9a87-4c93-81fe-80812980621a",
   "metadata": {},
   "outputs": [
    {
     "data": {
      "text/plain": [
       "2019    2899\n",
       "2021    2308\n",
       "2020    2051\n",
       "2022     761\n",
       "2023     506\n",
       "2018     391\n",
       "2024      12\n",
       "2025       3\n",
       "2026       1\n",
       "Name: contract_until, dtype: int64"
      ]
     },
     "execution_count": 13,
     "metadata": {},
     "output_type": "execute_result"
    }
   ],
   "source": [
    "train['contract_until'].value_counts()"
   ]
  },
  {
   "cell_type": "markdown",
   "id": "70072428-c527-4c8d-aed0-1eb90fb69c36",
   "metadata": {},
   "source": [
    "### age feature"
   ]
  },
  {
   "cell_type": "markdown",
   "id": "5395ccab-eb24-4182-80d1-1c20ef303f9d",
   "metadata": {},
   "source": [
    "남은계약기간(contract_until - 기준연도(여기서는 아마 17?18?)\n",
    "나이에 관련된 파생변수(bin?)"
   ]
  },
  {
   "cell_type": "code",
   "execution_count": 23,
   "id": "250e4800-8258-42cf-8fef-af96887d92ad",
   "metadata": {},
   "outputs": [],
   "source": [
    "# 계약 만료 연도 - 기준연도(2017)\n",
    "\n",
    "# 현재 남은 계약 기간\n",
    "train['contract'] = train['contract_until'] - 2017\n",
    "test['contract'] = test['contract_until'] - 2017"
   ]
  },
  {
   "cell_type": "code",
   "execution_count": 24,
   "id": "92c3d64d-846b-4267-b698-4a178fc3a074",
   "metadata": {},
   "outputs": [],
   "source": [
    "train.drop('contract_until',axis=1,inplace=True)\n",
    "test.drop('contract_until',axis=1,inplace=True)"
   ]
  },
  {
   "cell_type": "markdown",
   "id": "32924660-c874-418c-9863-8b4d9d6ca98f",
   "metadata": {},
   "source": [
    "나이를 10대후반,20대초,중,후반,30대초,중,후반,40대 (초 1 2 3, 중 4 5 6, 후 7 8 9)"
   ]
  },
  {
   "cell_type": "code",
   "execution_count": 25,
   "id": "3e968414-924a-4183-bfcc-4a8b055052c3",
   "metadata": {},
   "outputs": [],
   "source": [
    "train['age_cut'] = 0\n",
    "test['age_cut'] = 0"
   ]
  },
  {
   "cell_type": "code",
   "execution_count": 55,
   "id": "85c5943d-892b-4079-a6d9-0cacb727aad9",
   "metadata": {},
   "outputs": [],
   "source": [
    "train['age_cut'] = pd.cut(train['age'], bins=[0,19,23,26,29,33,36,39,43],\n",
    "                          labels=['10','ealry20','mid20','late20','early30','mid30','rate30','40'])\n",
    "test['age_cut'] = pd.cut(test['age'], bins=[0,19,23,26,29,33,36,39,43],\n",
    "                          labels=['10','ealry20','mid20','late20','early30','mid30','rate30','40'])"
   ]
  },
  {
   "cell_type": "markdown",
   "id": "a7426ca0-0ec0-42fd-ae4c-f58ac147c964",
   "metadata": {},
   "source": [
    "---\n",
    "---"
   ]
  },
  {
   "cell_type": "markdown",
   "id": "28ad554e-e16c-4096-ae3e-707afa534bba",
   "metadata": {},
   "source": [
    "---"
   ]
  },
  {
   "cell_type": "markdown",
   "id": "c042ebad-06f6-49e7-a9b3-65504b24dfa5",
   "metadata": {},
   "source": [
    "---"
   ]
  },
  {
   "cell_type": "markdown",
   "id": "b18b5fac-19ff-49cd-9edb-0b9e541effc3",
   "metadata": {},
   "source": [
    "### 예측 모델 및 성능 검증"
   ]
  },
  {
   "cell_type": "markdown",
   "id": "48ab75cc-45ae-4879-a463-e0b2713e9835",
   "metadata": {},
   "source": [
    "#### 원핫인코딩\n",
    "##### 상관관계 확인할 때 라벨인코딩을 먼저 진행\n"
   ]
  },
  {
   "cell_type": "code",
   "execution_count": 56,
   "id": "a398b6f3-8d84-404d-a612-331241d1fc62",
   "metadata": {},
   "outputs": [],
   "source": [
    "train_copy = train.copy()\n",
    "test_copy = test.copy()"
   ]
  },
  {
   "cell_type": "code",
   "execution_count": 57,
   "id": "93608b8f-f41b-4b3e-b08a-00c67d2380e3",
   "metadata": {},
   "outputs": [],
   "source": [
    "object_le = LabelEncoder()\n",
    "train_copy[['continent','position','prefer_foot','age_cut']] = train_copy[['continent','position','prefer_foot','age_cut']].apply(object_le.fit_transform)\n",
    "\n",
    "train_copy = pd.get_dummies(data= train_copy, columns=['continent'], prefix=['continent'])\n",
    "train_copy = pd.get_dummies(data= train_copy, columns=['position'], prefix=['position'])\n",
    "train_copy = pd.get_dummies(data= train_copy, columns=['prefer_foot'], prefix=['prefer_foot'])\n",
    "train_copy = pd.get_dummies(data= train_copy, columns=['age_cut'], prefix=['age_cut'])\n",
    "\n",
    "test_copy[['continent','position','prefer_foot','age_cut']] = test_copy[['continent','position','prefer_foot','age_cut']].apply(object_le.fit_transform)\n",
    "test_copy = pd.get_dummies(data= test_copy, columns=['continent'], prefix=['continent'])\n",
    "test_copy = pd.get_dummies(data= test_copy, columns=['position'], prefix=['position'])\n",
    "test_copy = pd.get_dummies(data= test_copy, columns=['prefer_foot'], prefix=['prefer_foot'])\n",
    "test_copy = pd.get_dummies(data= test_copy, columns=['age_cut'], prefix=['age_cut'])\n",
    "\n",
    "scaler = RobustScaler()\n",
    "train_copy[['stat_overall','stat_potential']] = scaler.fit_transform(train_copy[['stat_overall','stat_potential']])\n",
    "test_copy[['stat_overall','stat_potential']] = scaler.transform(test_copy[['stat_overall','stat_potential']])"
   ]
  },
  {
   "cell_type": "markdown",
   "id": "6e18cd70-7a29-43cf-ba8e-867deabcce89",
   "metadata": {},
   "source": [
    "---"
   ]
  },
  {
   "cell_type": "markdown",
   "id": "5dc5b75b-56ba-48af-97da-db0aa3b771c3",
   "metadata": {},
   "source": [
    "  "
   ]
  },
  {
   "cell_type": "markdown",
   "id": "cc708c55-7deb-4a85-a0aa-aa3beffbea6a",
   "metadata": {},
   "source": [
    "##### XGBoost target 자연로그"
   ]
  },
  {
   "cell_type": "code",
   "execution_count": 58,
   "id": "aa8ddf50-8bf0-4721-9dd2-b40c252eb658",
   "metadata": {},
   "outputs": [
    {
     "data": {
      "text/plain": [
       "<AxesSubplot:>"
      ]
     },
     "execution_count": 58,
     "metadata": {},
     "output_type": "execute_result"
    },
    {
     "data": {
      "image/png": "[encoded data removed]",
      "text/plain": [
       "<Figure size 432x288 with 1 Axes>"
      ]
     },
     "metadata": {
      "needs_background": "light"
     },
     "output_type": "display_data"
    }
   ],
   "source": [
    "np.log1p(target).hist()"
   ]
  },
  {
   "cell_type": "code",
   "execution_count": 73,
   "id": "1234f647-7574-49eb-8561-9cf2a94c9103",
   "metadata": {},
   "outputs": [],
   "source": [
    "target = np.log1p(target)"
   ]
  },
  {
   "cell_type": "code",
   "execution_count": 75,
   "id": "f6f074e8-5798-45ff-813b-59f0df99de7f",
   "metadata": {},
   "outputs": [
    {
     "data": {
      "text/plain": [
       "0.045173333633687404"
      ]
     },
     "execution_count": 75,
     "metadata": {},
     "output_type": "execute_result"
    }
   ],
   "source": [
    "xgb_model = xgb.XGBRegressor(random_state=42,use_label_encoder=False,eval_metric='logloss')\n",
    "xgb_model.fit(train_copy,target)\n",
    "target_pred = xgb_model.predict(train_copy)\n",
    "y_pred = xgb_model.predict(test_copy)\n",
    "\n",
    "# LinearRegression model의 학습 RMSE\n",
    "\n",
    "# RMSE 저장\n",
    "RMSE = mean_squared_error(np.expm1(np.log1p(target)),target_pred)**0.5\n",
    "# score.append({'model':'XGBRegressor log',\n",
    "#               'RMSE' : RMSE})\n",
    "RMSE"
   ]
  },
  {
   "cell_type": "code",
   "execution_count": 76,
   "id": "9ad7ff1c-fe63-48b9-a618-f1af1ad58e9b",
   "metadata": {},
   "outputs": [
    {
     "data": {
      "text/plain": [
       "array([4.9545068e+07, 9.2110984e+07, 8.2234088e+07, ..., 5.8559551e+04,\n",
       "       5.4239344e+04, 4.4986285e+04], dtype=float32)"
      ]
     },
     "execution_count": 76,
     "metadata": {},
     "output_type": "execute_result"
    }
   ],
   "source": [
    "np.expm1(y_pred)"
   ]
  },
  {
   "cell_type": "code",
   "execution_count": 43,
   "id": "8e087bd2-6fae-478d-9a01-7fcaa3270aeb",
   "metadata": {},
   "outputs": [],
   "source": [
    "# submission['value'] = np.expm1(y_pred)\n",
    "# submission.to_csv('log.csv',index=False)"
   ]
  },
  {
   "cell_type": "markdown",
   "id": "68fe261c-30c0-46bc-8940-fdabf9555e4f",
   "metadata": {},
   "source": [
    "# learning curve"
   ]
  },
  {
   "cell_type": "code",
   "execution_count": 144,
   "id": "f1470a53-6fad-4d35-a7f0-1556873ac353",
   "metadata": {},
   "outputs": [
    {
     "name": "stdout",
     "output_type": "stream",
     "text": [
      "Training scores:\n",
      "\n",
      " [[-6.27919582e-12 -2.42460855e-11 -2.42460855e-11 -2.42460855e-11\n",
      "  -2.42460855e-11]\n",
      " [-2.58259998e-06 -3.70515600e-06 -3.70515600e-06 -3.70515600e-06\n",
      "  -3.70515600e-06]\n",
      " [-2.32700956e-04 -5.54125778e-05 -5.54125778e-05 -5.54125778e-05\n",
      "  -5.54125778e-05]\n",
      " [-1.17931481e-03 -1.10867873e-03 -1.06947202e-03 -1.06947202e-03\n",
      "  -1.06947202e-03]\n",
      " [-1.62260754e-03 -1.59949213e-03 -1.82792098e-03 -1.87083301e-03\n",
      "  -1.87083301e-03]\n",
      " [-1.76844201e-03 -1.86235709e-03 -1.92539822e-03 -1.87342102e-03\n",
      "  -2.00519915e-03]]\n",
      "\n",
      " ----------------------------------------------------------------------\n",
      "\n",
      "Validation scores:\n",
      "\n",
      " [[-1.42759658e+00 -1.72366886e+01 -2.49502105e+01 -3.00603080e+01\n",
      "  -4.15442734e+01]\n",
      " [-7.16400053e-01 -6.65746708e+00 -1.18350532e+01 -1.56338663e+01\n",
      "  -2.44732637e+01]\n",
      " [-7.13095824e-01 -2.62214091e+00 -6.03799851e+00 -8.84271811e+00\n",
      "  -1.58051162e+01]\n",
      " [-7.32986370e-01 -1.05469481e-01 -1.65961374e+00 -3.23203022e+00\n",
      "  -7.78987464e+00]\n",
      " [-7.35174371e-01 -1.13897705e-01 -1.54888212e-02 -1.54942584e-01\n",
      "  -1.83942770e+00]\n",
      " [-7.23844075e-01 -1.17135905e-01 -1.41240229e-02 -3.17320865e-02\n",
      "  -7.01200555e-01]]\n",
      "Mean training scores\n",
      "\n",
      " 1       2.065271e-11\n",
      "100     3.480645e-06\n",
      "500     9.087025e-05\n",
      "2000    1.099282e-03\n",
      "5000    1.758337e-03\n",
      "7145    1.886963e-03\n",
      "dtype: float64\n",
      "\n",
      " --------------------\n",
      "\n",
      "Mean validation scores\n",
      "\n",
      " 1       23.043815\n",
      "100     11.863210\n",
      "500      6.804214\n",
      "2000     2.703995\n",
      "5000     0.571786\n",
      "7145     0.317607\n",
      "dtype: float64\n"
     ]
    },
    {
     "data": {
      "text/plain": [
       "(0.0, 24.0)"
      ]
     },
     "execution_count": 144,
     "metadata": {},
     "output_type": "execute_result"
    },
    {
     "data": {
      "image/png": "[encoded data removed]",
      "text/plain": [
       "<Figure size 576x396 with 1 Axes>"
      ]
     },
     "metadata": {},
     "output_type": "display_data"
    }
   ],
   "source": [
    "train_sizes = [1,100, 500, 2000, 5000, 7145]\n",
    "\n",
    "train_sizes, train_scores, validation_scores = learning_curve(\n",
    "estimator = xgb.XGBRegressor(),\n",
    "X = train_copy[train_copy.columns],\n",
    "y = target, train_sizes = train_sizes, cv = 5,\n",
    "scoring = 'neg_mean_squared_error')\n",
    "\n",
    "print('Training scores:\\n\\n', train_scores)\n",
    "print('\\n', '-' * 70) # separator to make the output easy to read\n",
    "print('\\nValidation scores:\\n\\n', validation_scores)\n",
    "\n",
    "train_scores_mean = -train_scores.mean(axis = 1)\n",
    "validation_scores_mean = -validation_scores.mean(axis = 1)\n",
    "print('Mean training scores\\n\\n', pd.Series(train_scores_mean, index = train_sizes))\n",
    "print('\\n', '-' * 20) # separator\n",
    "print('\\nMean validation scores\\n\\n',pd.Series(validation_scores_mean, index = train_sizes))\n",
    "\n",
    "plt.style.use('seaborn')\n",
    "plt.plot(train_sizes, train_scores_mean, label = 'Training error')\n",
    "plt.plot(train_sizes, validation_scores_mean, label = 'Validation error')\n",
    "plt.ylabel('MSE', fontsize = 14)\n",
    "plt.xlabel('Training set size', fontsize = 14)\n",
    "plt.title('Learning curves for a linear XGBRegressor model', fontsize = 18, y = 1.03)\n",
    "plt.legend()\n",
    "plt.ylim(0,24)"
   ]
  },
  {
   "cell_type": "markdown",
   "id": "34173a58-2e28-4649-9a84-9acbde3ff445",
   "metadata": {},
   "source": [
    "---\n",
    "하이퍼 파라미터"
   ]
  },
  {
   "cell_type": "code",
   "execution_count": 143,
   "id": "8d702155-7a51-49c2-99b9-3b3e53261c74",
   "metadata": {},
   "outputs": [
    {
     "name": "stdout",
     "output_type": "stream",
     "text": [
      "Training scores:\n",
      "\n",
      " [[-3.65635759e-04 -9.64009257e-05 -9.64009257e-05 -9.64009257e-05\n",
      "  -9.64009257e-05]\n",
      " [-1.46727768e-03 -1.03269702e-03 -1.03269702e-03 -1.03269702e-03\n",
      "  -1.03269702e-03]\n",
      " [-2.53108853e-03 -2.58411207e-03 -2.54880237e-03 -2.54880237e-03\n",
      "  -2.54880237e-03]\n",
      " [-2.76849663e-03 -2.98287683e-03 -3.15483191e-03 -3.18315014e-03\n",
      "  -3.18315014e-03]\n",
      " [-3.03325809e-03 -3.14110367e-03 -3.16873803e-03 -3.32644668e-03\n",
      "  -3.13534476e-03]]\n",
      "\n",
      " ----------------------------------------------------------------------\n",
      "\n",
      "Validation scores:\n",
      "\n",
      " [[-7.53337924e-01 -6.48906034e+00 -1.15293526e+01 -1.51886986e+01\n",
      "  -2.36587716e+01]\n",
      " [-6.69757553e-01 -2.58356649e+00 -6.01946024e+00 -8.87586845e+00\n",
      "  -1.58107558e+01]\n",
      " [-6.34199282e-01 -8.71704646e-02 -1.64890732e+00 -3.21750703e+00\n",
      "  -7.78069125e+00]\n",
      " [-6.24785662e-01 -1.04307532e-01 -1.16916297e-02 -1.62884273e-01\n",
      "  -1.95294132e+00]\n",
      " [-6.01670901e-01 -1.11330040e-01 -9.68307660e-03 -2.82756387e-02\n",
      "  -7.16850311e-01]]\n",
      "Mean training scores\n",
      "\n",
      " 100     0.000150\n",
      "500     0.001120\n",
      "2000    0.002552\n",
      "5000    0.003055\n",
      "7145    0.003161\n",
      "dtype: float64\n",
      "\n",
      " --------------------\n",
      "\n",
      "Mean validation scores\n",
      "\n",
      " 100     11.523844\n",
      "500      6.791882\n",
      "2000     2.673695\n",
      "5000     0.571322\n",
      "7145     0.293562\n",
      "dtype: float64\n"
     ]
    },
    {
     "data": {
      "text/plain": [
       "(0.0, 12.0)"
      ]
     },
     "execution_count": 143,
     "metadata": {},
     "output_type": "execute_result"
    },
    {
     "data": {
      "image/png": "[encoded data removed]",
      "text/plain": [
       "<Figure size 576x396 with 1 Axes>"
      ]
     },
     "metadata": {},
     "output_type": "display_data"
    }
   ],
   "source": [
    "train_sizes = [100, 500, 2000, 5000, 7145]\n",
    "\n",
    "train_sizes, train_scores, validation_scores = learning_curve(\n",
    "estimator = xgb.XGBRegressor(learning_rate = 0.1,\n",
    "                             n_estimators=1000,\n",
    "                             max_depth=3,\n",
    "                             min_child_weight=5,\n",
    "                             gamma=0,\n",
    "                             # reg_alpah=1e-05,\n",
    "                             subsample=0.71,\n",
    "                             colsample_bytree=0.6,\n",
    "                             # objective='reg:linear',\n",
    "                             nthread=-1,\n",
    "                             scale_pos_weight=1,\n",
    "                             seed=42),\n",
    "X = train_copy[train_copy.columns],\n",
    "y = target, train_sizes = train_sizes, cv = 5,\n",
    "scoring = 'neg_mean_squared_error')\n",
    "\n",
    "print('Training scores:\\n\\n', train_scores)\n",
    "print('\\n', '-' * 70) # separator to make the output easy to read\n",
    "print('\\nValidation scores:\\n\\n', validation_scores)\n",
    "\n",
    "train_scores_mean = -train_scores.mean(axis = 1)\n",
    "validation_scores_mean = -validation_scores.mean(axis = 1)\n",
    "print('Mean training scores\\n\\n', pd.Series(train_scores_mean, index = train_sizes))\n",
    "print('\\n', '-' * 20) # separator\n",
    "print('\\nMean validation scores\\n\\n',pd.Series(validation_scores_mean, index = train_sizes))\n",
    "\n",
    "plt.style.use('seaborn')\n",
    "plt.plot(train_sizes, train_scores_mean, label = 'Training error')\n",
    "plt.plot(train_sizes, validation_scores_mean, label = 'Validation error')\n",
    "plt.ylabel('MSE', fontsize = 14)\n",
    "plt.xlabel('Training set size', fontsize = 14)\n",
    "plt.title('Learning curves for a linear XGBRegressor model', fontsize = 18, y = 1.03)\n",
    "plt.legend()\n",
    "plt.ylim(0,12)"
   ]
  },
  {
   "cell_type": "markdown",
   "id": "a887c2e3-7a45-4941-8f1b-2a2d65043900",
   "metadata": {},
   "source": [
    "---"
   ]
  },
  {
   "cell_type": "markdown",
   "id": "fc3a71ed-1e60-4fb3-af81-aba28f7890e0",
   "metadata": {},
   "source": [
    "---\n",
    "* 하이퍼파라미터 조정"
   ]
  }
 ],
 "metadata": {
  "kernelspec": {
   "display_name": "Python 3 (ipykernel)",
   "language": "python",
   "name": "python3"
  },
  "language_info": {
   "codemirror_mode": {
    "name": "ipython",
    "version": 3
   },
   "file_extension": ".py",
   "mimetype": "text/x-python",
   "name": "python",
   "nbconvert_exporter": "python",
   "pygments_lexer": "ipython3",
   "version": "3.9.7"
  }
 },
 "nbformat": 4,
 "nbformat_minor": 5
}
