{
 "cells": [
  {
   "cell_type": "markdown",
   "id": "df87772d-9c99-465c-a79c-5af24a2c0f2c",
   "metadata": {},
   "source": [
    "# 해외 축구 선수 이적료 예측 미션  \n",
    "  \n",
    "## 모델링"
   ]
  },
  {
   "cell_type": "code",
   "execution_count": 8,
   "id": "a9560fdd-1216-4ef5-8460-229c03ff9034",
   "metadata": {
    "tags": []
   },
   "outputs": [],
   "source": [
    "import pandas as pd\n",
    "import numpy as np\n",
    "import seaborn as sns\n",
    "import matplotlib.pyplot as plt\n",
    "from sklearn.preprocessing import LabelEncoder, OneHotEncoder, StandardScaler, RobustScaler\n",
    "from sklearn.model_selection import GridSearchCV , KFold, train_test_split\n",
    "from sklearn.tree import DecisionTreeRegressor\n",
    "from sklearn.linear_model import LogisticRegression, LinearRegression, ElasticNet, Lasso, Ridge, ElasticNet\n",
    "from sklearn.ensemble import RandomForestRegressor, ExtraTreesRegressor, AdaBoostRegressor, GradientBoostingRegressor\n",
    "from sklearn.svm import SVR\n",
    "from xgboost import XGBRegressor\n",
    "# import xgboost as xgb\n",
    "from catboost import CatBoostRegressor, Pool\n",
    "from lightgbm import LGBMRegressor\n",
    "from ngboost import NGBRegressor\n",
    "from sklearn.experimental import enable_hist_gradient_boosting\n",
    "from sklearn.ensemble import HistGradientBoostingRegressor\n",
    "from sklearn.model_selection import cross_val_score, learning_curve\n",
    "from sklearn.metrics import accuracy_score, f1_score, classification_report, confusion_matrix\n",
    "from sklearn.metrics import mean_squared_error, make_scorer\n",
    "\n",
    "import warnings\n",
    "warnings.simplefilter(action='ignore', category=FutureWarning) # FutureWarning 제거\n",
    "pd.set_option('mode.chained_assignment',  None)\n",
    "from scipy.stats import skew\n",
    "import scipy.stats as stats"
   ]
  },
  {
   "cell_type": "code",
   "execution_count": 21,
   "id": "10fa84b4-ad0b-44fd-856d-e6d7a2690fa4",
   "metadata": {},
   "outputs": [],
   "source": [
    "train = pd.read_csv('FIFA_train.csv')\n",
    "test = pd.read_csv('FIFA_test.csv')\n",
    "submission = pd.read_csv('submission.csv')"
   ]
  },
  {
   "cell_type": "code",
   "execution_count": 22,
   "id": "a6da5392-0575-44f5-910b-fa0f393d296c",
   "metadata": {},
   "outputs": [],
   "source": [
    "train_copy = train.copy()\n",
    "test_copy = test.copy()\n",
    "\n",
    "train_copy.drop(['id','name'],axis=1,inplace=True)\n",
    "test_copy.drop(['id','name'],axis=1,inplace=True)"
   ]
  },
  {
   "cell_type": "code",
   "execution_count": 23,
   "id": "8c521458-c75c-4b44-b02a-377e5b068eee",
   "metadata": {},
   "outputs": [],
   "source": [
    "contract_train = []\n",
    "contract_test = []\n",
    "for i in train_copy['contract_until']:\n",
    "    contract_train.append(i[-4:])\n",
    "for i in test_copy['contract_until']:\n",
    "    contract_test.append(i[-4:])\n",
    "\n",
    "train_copy['contract_until'] = contract_train\n",
    "test_copy['contract_until'] = contract_test\n",
    "\n",
    "# 데이터 형식을 수치형으로 변환\n",
    "train_copy['contract_until'] = train_copy['contract_until'].astype('int64')\n",
    "test_copy['contract_until'] = test_copy['contract_until'].astype('int64')"
   ]
  },
  {
   "cell_type": "markdown",
   "id": "da5e3873-3671-4ee7-9e16-13629840dec2",
   "metadata": {
    "tags": []
   },
   "source": [
    "### feature engineering"
   ]
  },
  {
   "cell_type": "code",
   "execution_count": 24,
   "id": "9269f876-7b3d-439b-ac5d-683ca9e83475",
   "metadata": {},
   "outputs": [],
   "source": [
    "train_copy['value'] = np.log1p(train_copy['value'])\n",
    "target = train_copy['value']\n",
    "train_copy = train_copy.iloc[:,:-1]"
   ]
  },
  {
   "cell_type": "markdown",
   "id": "f1b34196-6e2b-42e6-9d1c-c190dd3309ac",
   "metadata": {},
   "source": [
    "* age,stat 파생변수 생성, contract 파생변수 생성"
   ]
  },
  {
   "cell_type": "code",
   "execution_count": 25,
   "id": "67ae4c6d-c96b-48aa-8274-945eea020545",
   "metadata": {},
   "outputs": [],
   "source": [
    "train_copy['age_overall'] = train_copy['age']/train_copy['stat_overall']\n",
    "train_copy['age_potential'] = train_copy['age']/train_copy['stat_potential']\n",
    "test_copy['age_overall'] = test_copy['age']/train_copy['stat_overall']\n",
    "test_copy['age_potential'] = test_copy['age']/train_copy['stat_potential']\n",
    "\n",
    "train_copy['contract'] = train_copy['contract_until'] - 2018\n",
    "test_copy['contract'] = test_copy['contract_until'] - 2018"
   ]
  },
  {
   "cell_type": "code",
   "execution_count": 26,
   "id": "6b069afe-5091-4935-852f-671835a915f3",
   "metadata": {},
   "outputs": [
    {
     "data": {
      "image/png": "[encoded data removed]",
      "text/plain": [
       "<Figure size 432x288 with 1 Axes>"
      ]
     },
     "metadata": {
      "needs_background": "light"
     },
     "output_type": "display_data"
    }
   ],
   "source": [
    "sns.distplot(train_copy['age']/train_copy['stat_overall'])\n",
    "plt.show()"
   ]
  },
  {
   "cell_type": "code",
   "execution_count": 27,
   "id": "5b7bc22a-8e41-413e-a34f-97343f3150fb",
   "metadata": {},
   "outputs": [
    {
     "data": {
      "image/png": "[encoded data removed]",
      "text/plain": [
       "<Figure size 432x288 with 1 Axes>"
      ]
     },
     "metadata": {
      "needs_background": "light"
     },
     "output_type": "display_data"
    }
   ],
   "source": [
    "sns.distplot(test_copy['age']/test_copy['stat_overall'])\n",
    "plt.show()"
   ]
  },
  {
   "cell_type": "code",
   "execution_count": 28,
   "id": "2d22dad1-1f63-4761-bd80-5769dbf25550",
   "metadata": {},
   "outputs": [
    {
     "data": {
      "text/html": [
       "<div>\n",
       "<style scoped>\n",
       "    .dataframe tbody tr th:only-of-type {\n",
       "        vertical-align: middle;\n",
       "    }\n",
       "\n",
       "    .dataframe tbody tr th {\n",
       "        vertical-align: top;\n",
       "    }\n",
       "\n",
       "    .dataframe thead th {\n",
       "        text-align: right;\n",
       "    }\n",
       "</style>\n",
       "<table border=\"1\" class=\"dataframe\">\n",
       "  <thead>\n",
       "    <tr style=\"text-align: right;\">\n",
       "      <th></th>\n",
       "      <th>age</th>\n",
       "      <th>continent</th>\n",
       "      <th>contract_until</th>\n",
       "      <th>position</th>\n",
       "      <th>prefer_foot</th>\n",
       "      <th>reputation</th>\n",
       "      <th>stat_overall</th>\n",
       "      <th>stat_potential</th>\n",
       "      <th>stat_skill_moves</th>\n",
       "      <th>age_overall</th>\n",
       "      <th>age_potential</th>\n",
       "      <th>contract</th>\n",
       "    </tr>\n",
       "  </thead>\n",
       "  <tbody>\n",
       "    <tr>\n",
       "      <th>0</th>\n",
       "      <td>31</td>\n",
       "      <td>south america</td>\n",
       "      <td>2021</td>\n",
       "      <td>ST</td>\n",
       "      <td>left</td>\n",
       "      <td>5.0</td>\n",
       "      <td>94</td>\n",
       "      <td>94</td>\n",
       "      <td>4.0</td>\n",
       "      <td>0.329787</td>\n",
       "      <td>0.329787</td>\n",
       "      <td>3</td>\n",
       "    </tr>\n",
       "    <tr>\n",
       "      <th>1</th>\n",
       "      <td>27</td>\n",
       "      <td>europe</td>\n",
       "      <td>2020</td>\n",
       "      <td>GK</td>\n",
       "      <td>right</td>\n",
       "      <td>4.0</td>\n",
       "      <td>91</td>\n",
       "      <td>93</td>\n",
       "      <td>1.0</td>\n",
       "      <td>0.296703</td>\n",
       "      <td>0.290323</td>\n",
       "      <td>2</td>\n",
       "    </tr>\n",
       "    <tr>\n",
       "      <th>2</th>\n",
       "      <td>31</td>\n",
       "      <td>south america</td>\n",
       "      <td>2021</td>\n",
       "      <td>ST</td>\n",
       "      <td>right</td>\n",
       "      <td>5.0</td>\n",
       "      <td>91</td>\n",
       "      <td>91</td>\n",
       "      <td>3.0</td>\n",
       "      <td>0.340659</td>\n",
       "      <td>0.340659</td>\n",
       "      <td>3</td>\n",
       "    </tr>\n",
       "    <tr>\n",
       "      <th>3</th>\n",
       "      <td>32</td>\n",
       "      <td>europe</td>\n",
       "      <td>2020</td>\n",
       "      <td>DF</td>\n",
       "      <td>right</td>\n",
       "      <td>4.0</td>\n",
       "      <td>91</td>\n",
       "      <td>91</td>\n",
       "      <td>3.0</td>\n",
       "      <td>0.351648</td>\n",
       "      <td>0.351648</td>\n",
       "      <td>2</td>\n",
       "    </tr>\n",
       "    <tr>\n",
       "      <th>4</th>\n",
       "      <td>25</td>\n",
       "      <td>europe</td>\n",
       "      <td>2021</td>\n",
       "      <td>GK</td>\n",
       "      <td>right</td>\n",
       "      <td>3.0</td>\n",
       "      <td>90</td>\n",
       "      <td>93</td>\n",
       "      <td>1.0</td>\n",
       "      <td>0.277778</td>\n",
       "      <td>0.268817</td>\n",
       "      <td>3</td>\n",
       "    </tr>\n",
       "    <tr>\n",
       "      <th>...</th>\n",
       "      <td>...</td>\n",
       "      <td>...</td>\n",
       "      <td>...</td>\n",
       "      <td>...</td>\n",
       "      <td>...</td>\n",
       "      <td>...</td>\n",
       "      <td>...</td>\n",
       "      <td>...</td>\n",
       "      <td>...</td>\n",
       "      <td>...</td>\n",
       "      <td>...</td>\n",
       "      <td>...</td>\n",
       "    </tr>\n",
       "    <tr>\n",
       "      <th>8927</th>\n",
       "      <td>18</td>\n",
       "      <td>africa</td>\n",
       "      <td>2019</td>\n",
       "      <td>MF</td>\n",
       "      <td>right</td>\n",
       "      <td>1.0</td>\n",
       "      <td>48</td>\n",
       "      <td>63</td>\n",
       "      <td>3.0</td>\n",
       "      <td>0.375000</td>\n",
       "      <td>0.285714</td>\n",
       "      <td>1</td>\n",
       "    </tr>\n",
       "    <tr>\n",
       "      <th>8928</th>\n",
       "      <td>19</td>\n",
       "      <td>europe</td>\n",
       "      <td>2020</td>\n",
       "      <td>DF</td>\n",
       "      <td>right</td>\n",
       "      <td>1.0</td>\n",
       "      <td>47</td>\n",
       "      <td>59</td>\n",
       "      <td>2.0</td>\n",
       "      <td>0.404255</td>\n",
       "      <td>0.322034</td>\n",
       "      <td>2</td>\n",
       "    </tr>\n",
       "    <tr>\n",
       "      <th>8929</th>\n",
       "      <td>18</td>\n",
       "      <td>south america</td>\n",
       "      <td>2021</td>\n",
       "      <td>DF</td>\n",
       "      <td>right</td>\n",
       "      <td>1.0</td>\n",
       "      <td>47</td>\n",
       "      <td>64</td>\n",
       "      <td>2.0</td>\n",
       "      <td>0.382979</td>\n",
       "      <td>0.281250</td>\n",
       "      <td>3</td>\n",
       "    </tr>\n",
       "    <tr>\n",
       "      <th>8930</th>\n",
       "      <td>18</td>\n",
       "      <td>europe</td>\n",
       "      <td>2021</td>\n",
       "      <td>GK</td>\n",
       "      <td>right</td>\n",
       "      <td>1.0</td>\n",
       "      <td>47</td>\n",
       "      <td>65</td>\n",
       "      <td>1.0</td>\n",
       "      <td>0.382979</td>\n",
       "      <td>0.276923</td>\n",
       "      <td>3</td>\n",
       "    </tr>\n",
       "    <tr>\n",
       "      <th>8931</th>\n",
       "      <td>19</td>\n",
       "      <td>europe</td>\n",
       "      <td>2020</td>\n",
       "      <td>ST</td>\n",
       "      <td>right</td>\n",
       "      <td>1.0</td>\n",
       "      <td>47</td>\n",
       "      <td>63</td>\n",
       "      <td>2.0</td>\n",
       "      <td>0.404255</td>\n",
       "      <td>0.301587</td>\n",
       "      <td>2</td>\n",
       "    </tr>\n",
       "  </tbody>\n",
       "</table>\n",
       "<p>8932 rows × 12 columns</p>\n",
       "</div>"
      ],
      "text/plain": [
       "      age      continent  contract_until position prefer_foot  reputation  \\\n",
       "0      31  south america            2021       ST        left         5.0   \n",
       "1      27         europe            2020       GK       right         4.0   \n",
       "2      31  south america            2021       ST       right         5.0   \n",
       "3      32         europe            2020       DF       right         4.0   \n",
       "4      25         europe            2021       GK       right         3.0   \n",
       "...   ...            ...             ...      ...         ...         ...   \n",
       "8927   18         africa            2019       MF       right         1.0   \n",
       "8928   19         europe            2020       DF       right         1.0   \n",
       "8929   18  south america            2021       DF       right         1.0   \n",
       "8930   18         europe            2021       GK       right         1.0   \n",
       "8931   19         europe            2020       ST       right         1.0   \n",
       "\n",
       "      stat_overall  stat_potential  stat_skill_moves  age_overall  \\\n",
       "0               94              94               4.0     0.329787   \n",
       "1               91              93               1.0     0.296703   \n",
       "2               91              91               3.0     0.340659   \n",
       "3               91              91               3.0     0.351648   \n",
       "4               90              93               1.0     0.277778   \n",
       "...            ...             ...               ...          ...   \n",
       "8927            48              63               3.0     0.375000   \n",
       "8928            47              59               2.0     0.404255   \n",
       "8929            47              64               2.0     0.382979   \n",
       "8930            47              65               1.0     0.382979   \n",
       "8931            47              63               2.0     0.404255   \n",
       "\n",
       "      age_potential  contract  \n",
       "0          0.329787         3  \n",
       "1          0.290323         2  \n",
       "2          0.340659         3  \n",
       "3          0.351648         2  \n",
       "4          0.268817         3  \n",
       "...             ...       ...  \n",
       "8927       0.285714         1  \n",
       "8928       0.322034         2  \n",
       "8929       0.281250         3  \n",
       "8930       0.276923         3  \n",
       "8931       0.301587         2  \n",
       "\n",
       "[8932 rows x 12 columns]"
      ]
     },
     "execution_count": 28,
     "metadata": {},
     "output_type": "execute_result"
    }
   ],
   "source": [
    "train_copy"
   ]
  },
  {
   "cell_type": "markdown",
   "id": "d4fccd03-bdd2-4e68-85e4-58e96d64d47a",
   "metadata": {},
   "source": [
    "---"
   ]
  },
  {
   "cell_type": "markdown",
   "id": "6a0092c9-0e4d-4b23-aa7c-4fa2c8521625",
   "metadata": {},
   "source": [
    "# 모델링"
   ]
  },
  {
   "cell_type": "code",
   "execution_count": 29,
   "id": "31394b21-75ea-4323-be9b-aca12a917748",
   "metadata": {},
   "outputs": [],
   "source": [
    "object_le = LabelEncoder()\n",
    "train_copy[['continent','position','prefer_foot']] = train_copy[['continent','position','prefer_foot']].apply(object_le.fit_transform)\n",
    "\n",
    "train_copy = pd.get_dummies(data= train_copy, columns=['continent'], prefix=['continent'])\n",
    "train_copy = pd.get_dummies(data= train_copy, columns=['position'], prefix=['position'])\n",
    "train_copy = pd.get_dummies(data= train_copy, columns=['prefer_foot'], prefix=['prefer_foot'])\n",
    "\n",
    "test_copy[['continent','position','prefer_foot']] = test_copy[['continent','position','prefer_foot']].apply(object_le.fit_transform)\n",
    "test_copy = pd.get_dummies(data= test_copy, columns=['continent'], prefix=['continent'])\n",
    "test_copy = pd.get_dummies(data= test_copy, columns=['position'], prefix=['position'])\n",
    "test_copy = pd.get_dummies(data= test_copy, columns=['prefer_foot'], prefix=['prefer_foot'])"
   ]
  },
  {
   "cell_type": "code",
   "execution_count": 30,
   "id": "1ae5caa1-6018-4276-92fc-c10f75b94bbd",
   "metadata": {},
   "outputs": [],
   "source": [
    "scaler = RobustScaler()\n",
    "train_copy[['age','stat_overall','stat_potential']] = scaler.fit_transform(train_copy[['age','stat_overall','stat_potential']])\n",
    "test_copy[['age','stat_overall','stat_potential']] = scaler.transform(test_copy[['age','stat_overall','stat_potential']])"
   ]
  },
  {
   "cell_type": "markdown",
   "id": "92fedd3e-3e48-475d-90b7-fc512a091ea4",
   "metadata": {},
   "source": [
    "# 스태킹 안하고 회귀모델 평균으로"
   ]
  },
  {
   "cell_type": "code",
   "execution_count": 31,
   "id": "2b580aa5-8e5b-4292-b7c7-970040e84197",
   "metadata": {},
   "outputs": [],
   "source": [
    "X_train, X_valid, y_train, y_valid=train_test_split(train_copy, target, test_size=0.2, random_state=0)"
   ]
  },
  {
   "cell_type": "code",
   "execution_count": 32,
   "id": "5f35d46c-5b71-493f-9e4d-465df78ebae2",
   "metadata": {},
   "outputs": [],
   "source": [
    "def RMSE(true, pred):\n",
    "    mse = mean_squared_error(true, pred)\n",
    "    score = np.sqrt(mse)\n",
    "    return score\n",
    "\n",
    "nmae_score = make_scorer(RMSE, greater_is_better=False)"
   ]
  },
  {
   "cell_type": "markdown",
   "id": "64a469d0-bacc-4769-86c1-94606a94bd47",
   "metadata": {},
   "source": [
    "* 최적 하이퍼 파라미터 찾기"
   ]
  },
  {
   "cell_type": "code",
   "execution_count": 56,
   "id": "357464be-f87e-4207-8862-1e8815928b27",
   "metadata": {},
   "outputs": [
    {
     "name": "stdout",
     "output_type": "stream",
     "text": [
      "{'depth': 6, 'learning_rate': 0.1, 'verbose': 0}\n"
     ]
    }
   ],
   "source": [
    "cat_reg = CatBoostRegressor(random_state=42)\n",
    "param_grid = {'learning_rate':[0.01,0.03,0.05,0.1,0.2,0.3],\n",
    "              'depth':[2,3,4,5,6,7,8,9,10],\n",
    "              'verbose':[0]}\n",
    "\n",
    "grid_cv = GridSearchCV(cat_reg,param_grid = param_grid,cv=10,n_jobs=-1)\n",
    "grid_cv.fit(X_train,y_train)\n",
    "\n",
    "print(grid_cv.best_params_)"
   ]
  },
  {
   "cell_type": "markdown",
   "id": "44f536d6-471c-4561-a8ad-c1e5af12eb81",
   "metadata": {},
   "source": [
    "* 모델 생성"
   ]
  },
  {
   "cell_type": "code",
   "execution_count": 12,
   "id": "1379ed8d-f526-4640-9037-d025818a3c11",
   "metadata": {},
   "outputs": [],
   "source": [
    "etr = ExtraTreesRegressor(max_depth=10,n_estimators=200)\n",
    "lr = LinearRegression()\n",
    "rg = Ridge()\n",
    "rf = RandomForestRegressor(random_state=42,max_depth=12,n_estimators=100)\n",
    "gbr = GradientBoostingRegressor(random_state=42,learning_rate=0.1,max_depth=5,n_estimators=150)\n",
    "xgb = XGBRegressor(random_state=42,learning_rate=0.1, max_depth=8, n_estimators=150)\n",
    "lgb = LGBMRegressor(random_state=42,learning_rate=0.1,max_depth=12,n_estimators=150)\n",
    "ada = AdaBoostRegressor(random_state=42,learning_rate=0.1,n_estimators=200)\n",
    "hgb = HistGradientBoostingRegressor(random_state=42,learning_rate=0.1)\n",
    "ngb = NGBRegressor(random_state=42,verbose=0,n_estimators=600,learning_rate=0.1)\n",
    "cat = CatBoostRegressor(random_state=42,verbose=0,depth=5,learning_rate=0.1)"
   ]
  },
  {
   "cell_type": "markdown",
   "id": "6417d185-4333-418c-bccf-57f5b757045a",
   "metadata": {},
   "source": [
    "* 모델 학습"
   ]
  },
  {
   "cell_type": "code",
   "execution_count": 13,
   "id": "174e6cbd-49b9-4883-8b54-1b2b255996d5",
   "metadata": {},
   "outputs": [
    {
     "data": {
      "text/plain": [
       "<catboost.core.CatBoostRegressor at 0x7f7ef0008dc0>"
      ]
     },
     "execution_count": 13,
     "metadata": {},
     "output_type": "execute_result"
    }
   ],
   "source": [
    "etr.fit(X_train,y_train)\n",
    "lr.fit(X_train,y_train)\n",
    "rg.fit(X_train,y_train)\n",
    "rf.fit(X_train,y_train)\n",
    "gbr.fit(X_train,y_train)\n",
    "xgb.fit(X_train,y_train)\n",
    "lgb.fit(X_train,y_train)\n",
    "ada.fit(X_train,y_train)\n",
    "hgb.fit(X_train,y_train)\n",
    "ngb.fit(X_train,y_train)\n",
    "cat.fit(X_train,y_train)"
   ]
  },
  {
   "cell_type": "markdown",
   "id": "0f86d9d9-eca3-45ad-8eed-e95b775c4687",
   "metadata": {},
   "source": [
    "* test value 예측"
   ]
  },
  {
   "cell_type": "code",
   "execution_count": 14,
   "id": "29ae635a-e26e-4dbb-aade-83f3d1178e83",
   "metadata": {},
   "outputs": [],
   "source": [
    "y_etr = etr.predict(X_valid)\n",
    "y_lr = lr.predict(X_valid)\n",
    "y_rg = rg.predict(X_valid)\n",
    "y_rf = rf.predict(X_valid)\n",
    "y_gbr = gbr.predict(X_valid)\n",
    "y_xgb = xgb.predict(X_valid)\n",
    "y_lgb = lgb.predict(X_valid)\n",
    "y_ada = ada.predict(X_valid)\n",
    "y_hgb = hgb.predict(X_valid)\n",
    "y_ngb = ngb.predict(X_valid)\n",
    "y_cat = cat.predict(X_valid)"
   ]
  },
  {
   "cell_type": "markdown",
   "id": "a8138750-17a2-43a6-8c24-83ab512bab77",
   "metadata": {},
   "source": [
    "* score 확인"
   ]
  },
  {
   "cell_type": "code",
   "execution_count": 15,
   "id": "962cc23d-9bf2-4b86-bd3a-a2c17b84475e",
   "metadata": {},
   "outputs": [],
   "source": [
    "score_etr = RMSE(y_valid,y_etr)\n",
    "score_lr = RMSE(y_valid,y_lr)\n",
    "score_rg = RMSE(y_valid,y_rg)\n",
    "score_rf = RMSE(y_valid,y_rf)\n",
    "score_gbr = RMSE(y_valid,y_gbr)\n",
    "score_xgb = RMSE(y_valid,y_xgb)\n",
    "score_lgb = RMSE(y_valid,y_lgb)\n",
    "score_ada = RMSE(y_valid,y_ada)\n",
    "score_hgb = RMSE(y_valid,y_hgb)\n",
    "score_ngb = RMSE(y_valid,y_ngb)\n",
    "score_cat = RMSE(y_valid,y_cat)"
   ]
  },
  {
   "cell_type": "markdown",
   "id": "dcf06e22-9299-4e61-8178-e3d81188534a",
   "metadata": {},
   "source": [
    "* score 출력"
   ]
  },
  {
   "cell_type": "code",
   "execution_count": 16,
   "id": "fac79e71-7250-47ca-8591-19e42e41e2c2",
   "metadata": {},
   "outputs": [
    {
     "name": "stdout",
     "output_type": "stream",
     "text": [
      "etr 0.08361738846223668\n",
      "lr  0.22138300389542512\n",
      "rg  0.2297266686016237\n",
      "rf  0.08707404589555233\n",
      "gbr 0.0755017218851355\n",
      "xgb 0.07539455724392584\n",
      "lgb 0.07593506713235679\n",
      "ada 0.29452397229644234\n",
      "hgb 0.0801086627221265\n",
      "ngb 0.07399326380056215\n",
      "cat 0.0665994920827646\n"
     ]
    }
   ],
   "source": [
    "print('etr',score_etr)\n",
    "print('lr ',score_lr)\n",
    "print('rg ',score_rg)\n",
    "print('rf ',score_rf)\n",
    "print('gbr',score_gbr)\n",
    "print('xgb',score_xgb)\n",
    "print('lgb',score_lgb)\n",
    "print('ada',score_ada)\n",
    "print('hgb',score_hgb)\n",
    "print('ngb',score_ngb)\n",
    "print('cat',score_cat)"
   ]
  },
  {
   "cell_type": "markdown",
   "id": "e49ac03b-bac8-47fe-9d11-5d72bf6d745a",
   "metadata": {},
   "source": [
    "#### 좋은 성능을 보인 모델은 ETR,RF,GBR,XGB,LGB,HGB,NGB,CAT 모델이 있습니다"
   ]
  },
  {
   "cell_type": "markdown",
   "id": "c026dd02-41b8-47eb-a0ab-2868daabcf95",
   "metadata": {},
   "source": [
    "### KFOLD로 fold별 val값, predict값을 평균내서 일반화 성능을 끌어 올립니다."
   ]
  },
  {
   "cell_type": "code",
   "execution_count": 17,
   "id": "816a8310-4549-4799-a5de-9a8e18dc8532",
   "metadata": {},
   "outputs": [],
   "source": [
    "kf = KFold(n_splits=10,random_state=42,shuffle=True)"
   ]
  },
  {
   "cell_type": "code",
   "execution_count": 24,
   "id": "1824eee0-9adb-461b-88e2-e081915b6464",
   "metadata": {},
   "outputs": [
    {
     "name": "stdout",
     "output_type": "stream",
     "text": [
      "1 FOLD RMSE = 948891.6803233995\n",
      "2 FOLD RMSE = 1439553.3263649822\n",
      "3 FOLD RMSE = 550705.679636224\n",
      "4 FOLD RMSE = 716380.1929792577\n",
      "5 FOLD RMSE = 685308.6590309615\n",
      "6 FOLD RMSE = 676201.8197984353\n",
      "7 FOLD RMSE = 693335.442502087\n",
      "8 FOLD RMSE = 800627.4300574928\n",
      "9 FOLD RMSE = 854254.003762837\n",
      "10 FOLD RMSE = 517514.40833157056\n",
      "10FOLD Mean of RMSE = 788277.2642787247\n"
     ]
    }
   ],
   "source": [
    "# ExtraTreesRegression\n",
    "etr_pred = np.zeros(test_copy.shape[0])\n",
    "etr_val = []\n",
    "for n, (tr_idx, val_idx) in enumerate(kf.split(train_copy, target)) :\n",
    "    tr_x, tr_y = train_copy.iloc[tr_idx], target.iloc[tr_idx]\n",
    "    val_x, val_y = train_copy.iloc[val_idx], np.expm1(target.iloc[val_idx])\n",
    "    \n",
    "    etr = ExtraTreesRegressor(random_state=42,max_depth=10,n_estimators=200)\n",
    "    etr.fit(tr_x, tr_y)\n",
    "    \n",
    "    val_pred = np.expm1(etr.predict(val_x))\n",
    "    val_rmse = np.sqrt(mean_squared_error(val_y, val_pred))\n",
    "    etr_val.append(val_rmse)\n",
    "    print(f'{n + 1} FOLD RMSE = {val_rmse}')\n",
    "    \n",
    "    target_data = Pool(data = test_copy, label = None)\n",
    "    fold_pred = etr.predict(test_copy) / 10\n",
    "    etr_pred += fold_pred\n",
    "print(f'10FOLD Mean of RMSE = {np.mean(etr_val)}')"
   ]
  },
  {
   "cell_type": "code",
   "execution_count": 27,
   "id": "ee1441af-085d-4fef-98e6-c7b91aa5bbb6",
   "metadata": {},
   "outputs": [
    {
     "name": "stdout",
     "output_type": "stream",
     "text": [
      "1 FOLD RMSE = 913352.5576400522\n",
      "2 FOLD RMSE = 1452880.736807408\n",
      "3 FOLD RMSE = 460032.7148063862\n",
      "4 FOLD RMSE = 422496.1814684256\n",
      "5 FOLD RMSE = 685793.5583447923\n",
      "6 FOLD RMSE = 616683.3176070952\n",
      "7 FOLD RMSE = 719791.7150238164\n",
      "8 FOLD RMSE = 781173.8212326324\n",
      "9 FOLD RMSE = 941447.5961878216\n",
      "10 FOLD RMSE = 511078.58351355215\n",
      "10FOLD Mean of RMSE = 750473.0782631983\n"
     ]
    }
   ],
   "source": [
    "# RandomForestRegressor\n",
    "rf_pred = np.zeros(test_copy.shape[0])\n",
    "rf_val = []\n",
    "for n, (tr_idx, val_idx) in enumerate(kf.split(train_copy, target)) :\n",
    "    tr_x, tr_y = train_copy.iloc[tr_idx], target.iloc[tr_idx]\n",
    "    val_x, val_y = train_copy.iloc[val_idx], np.expm1(target.iloc[val_idx])\n",
    "    \n",
    "    rf = RandomForestRegressor(random_state=42,max_depth=12,n_estimators=100)\n",
    "    rf.fit(tr_x, tr_y)\n",
    "    \n",
    "    val_pred = np.expm1(rf.predict(val_x))\n",
    "    val_rmse = np.sqrt(mean_squared_error(val_y, val_pred))\n",
    "    rf_val.append(val_rmse)\n",
    "    print(f'{n + 1} FOLD RMSE = {val_rmse}')\n",
    "    \n",
    "    fold_pred = rf.predict(test_copy) / 10\n",
    "    rf_pred += fold_pred\n",
    "print(f'10FOLD Mean of RMSE = {np.mean(rf_val)}')"
   ]
  },
  {
   "cell_type": "code",
   "execution_count": 28,
   "id": "b26fde08-943c-4d6f-b499-2953e9d8bb00",
   "metadata": {},
   "outputs": [
    {
     "name": "stdout",
     "output_type": "stream",
     "text": [
      "1 FOLD RMSE = 427906.8327974129\n",
      "2 FOLD RMSE = 1052260.9255155055\n",
      "3 FOLD RMSE = 437724.2606193203\n",
      "4 FOLD RMSE = 381496.924803332\n",
      "5 FOLD RMSE = 484297.4854728498\n",
      "6 FOLD RMSE = 446629.3017581576\n",
      "7 FOLD RMSE = 413156.90019545285\n",
      "8 FOLD RMSE = 630945.0753017688\n",
      "9 FOLD RMSE = 636058.1159282451\n",
      "10 FOLD RMSE = 592441.6211967897\n",
      "10FOLD Mean of RMSE = 550291.7443588835\n"
     ]
    }
   ],
   "source": [
    "# GradientBoostingRegressor\n",
    "gbr_pred = np.zeros(test_copy.shape[0])\n",
    "gbr_val = []\n",
    "for n, (tr_idx, val_idx) in enumerate(kf.split(train_copy, target)) :\n",
    "    tr_x, tr_y = train_copy.iloc[tr_idx], target.iloc[tr_idx]\n",
    "    val_x, val_y = train_copy.iloc[val_idx], np.expm1(target.iloc[val_idx])\n",
    "    \n",
    "    gbr = GradientBoostingRegressor(random_state=42,learning_rate=0.1,max_depth=5,n_estimators=150)\n",
    "    gbr.fit(tr_x, tr_y)\n",
    "    \n",
    "    val_pred = np.expm1(gbr.predict(val_x))\n",
    "    val_rmse = np.sqrt(mean_squared_error(val_y, val_pred))\n",
    "    gbr_val.append(val_rmse)\n",
    "    print(f'{n + 1} FOLD RMSE = {val_rmse}')\n",
    "\n",
    "    fold_pred = gbr.predict(test_copy) / 10\n",
    "    gbr_pred += fold_pred\n",
    "print(f'10FOLD Mean of RMSE = {np.mean(gbr_val)}')"
   ]
  },
  {
   "cell_type": "code",
   "execution_count": 29,
   "id": "d4bd2a1c-1104-402c-a996-403936458a85",
   "metadata": {},
   "outputs": [
    {
     "name": "stdout",
     "output_type": "stream",
     "text": [
      "1 FOLD RMSE = 516409.6285444195\n",
      "2 FOLD RMSE = 1182418.1151070104\n",
      "3 FOLD RMSE = 416329.04326413834\n",
      "4 FOLD RMSE = 276495.9000091559\n",
      "5 FOLD RMSE = 492698.1787845808\n",
      "6 FOLD RMSE = 417926.75479741814\n",
      "7 FOLD RMSE = 591497.5935391117\n",
      "8 FOLD RMSE = 495121.1056282029\n",
      "9 FOLD RMSE = 586505.8711638438\n",
      "10 FOLD RMSE = 510484.8726266649\n",
      "10FOLD Mean of RMSE = 548588.7063464547\n"
     ]
    }
   ],
   "source": [
    "# XGBRegressor\n",
    "xgb_pred = np.zeros(test_copy.shape[0])\n",
    "xgb_val = []\n",
    "for n, (tr_idx, val_idx) in enumerate(kf.split(train_copy, target)) :\n",
    "    tr_x, tr_y = train_copy.iloc[tr_idx], target.iloc[tr_idx]\n",
    "    val_x, val_y = train_copy.iloc[val_idx], np.expm1(target.iloc[val_idx])\n",
    "    \n",
    "    xgb = XGBRegressor(random_state=42,learning_rate=0.1, max_depth=8, n_estimators=150)\n",
    "    xgb.fit(tr_x, tr_y)\n",
    "    \n",
    "    val_pred = np.expm1(xgb.predict(val_x))\n",
    "    val_rmse = np.sqrt(mean_squared_error(val_y, val_pred))\n",
    "    xgb_val.append(val_rmse)\n",
    "    print(f'{n + 1} FOLD RMSE = {val_rmse}')\n",
    "\n",
    "    fold_pred = xgb.predict(test_copy) / 10\n",
    "    xgb_pred += fold_pred\n",
    "print(f'10FOLD Mean of RMSE = {np.mean(xgb_val)}')"
   ]
  },
  {
   "cell_type": "code",
   "execution_count": 30,
   "id": "3387b125-cd56-4e87-b865-c1ed025b229b",
   "metadata": {},
   "outputs": [
    {
     "name": "stdout",
     "output_type": "stream",
     "text": [
      "1 FOLD RMSE = 484119.08651433355\n",
      "2 FOLD RMSE = 1450775.3518380974\n",
      "3 FOLD RMSE = 424158.35299429524\n",
      "4 FOLD RMSE = 345203.410558015\n",
      "5 FOLD RMSE = 466942.99992754345\n",
      "6 FOLD RMSE = 439570.4840154903\n",
      "7 FOLD RMSE = 285517.8055940142\n",
      "8 FOLD RMSE = 758288.2631487295\n",
      "9 FOLD RMSE = 530424.6556446473\n",
      "10 FOLD RMSE = 650696.7764120777\n",
      "10FOLD Mean of RMSE = 583569.7186647244\n"
     ]
    }
   ],
   "source": [
    "# LGBMRegressor\n",
    "lgb_pred = np.zeros(test_copy.shape[0])\n",
    "lgb_val = []\n",
    "for n, (tr_idx, val_idx) in enumerate(kf.split(train_copy, target)) :\n",
    "    tr_x, tr_y = train_copy.iloc[tr_idx], target.iloc[tr_idx]\n",
    "    val_x, val_y = train_copy.iloc[val_idx], np.expm1(target.iloc[val_idx])\n",
    "    \n",
    "    lgb = LGBMRegressor(random_state=42,learning_rate=0.1,max_depth=12,n_estimators=150)\n",
    "    lgb.fit(tr_x, tr_y)\n",
    "    \n",
    "    val_pred = np.expm1(lgb.predict(val_x))\n",
    "    val_rmse = np.sqrt(mean_squared_error(val_y, val_pred))\n",
    "    lgb_val.append(val_rmse)\n",
    "    print(f'{n + 1} FOLD RMSE = {val_rmse}')\n",
    "\n",
    "    fold_pred = lgb.predict(test_copy) / 10\n",
    "    lgb_pred += fold_pred\n",
    "print(f'10FOLD Mean of RMSE = {np.mean(lgb_val)}')"
   ]
  },
  {
   "cell_type": "code",
   "execution_count": 31,
   "id": "0f48ee8a-6665-425c-81c3-d8fbbe108b39",
   "metadata": {},
   "outputs": [
    {
     "name": "stdout",
     "output_type": "stream",
     "text": [
      "1 FOLD RMSE = 521448.94880845386\n",
      "2 FOLD RMSE = 1546286.980044712\n",
      "3 FOLD RMSE = 420196.2313745927\n",
      "4 FOLD RMSE = 403352.33656942175\n",
      "5 FOLD RMSE = 402575.8190251027\n",
      "6 FOLD RMSE = 442643.79489537474\n",
      "7 FOLD RMSE = 284757.6142374566\n",
      "8 FOLD RMSE = 711296.9288947331\n",
      "9 FOLD RMSE = 603200.4366449522\n",
      "10 FOLD RMSE = 572356.2741069396\n",
      "10FOLD Mean of RMSE = 590811.5364601739\n"
     ]
    }
   ],
   "source": [
    "# HGBRegressor\n",
    "hgb_pred = np.zeros(test_copy.shape[0])\n",
    "hgb_val = []\n",
    "for n, (tr_idx, val_idx) in enumerate(kf.split(train_copy, target)) :\n",
    "    tr_x, tr_y = train_copy.iloc[tr_idx], target.iloc[tr_idx]\n",
    "    val_x, val_y = train_copy.iloc[val_idx], np.expm1(target.iloc[val_idx])\n",
    "    \n",
    "    hgb = HistGradientBoostingRegressor(random_state=42,learning_rate=0.1)\n",
    "    hgb.fit(tr_x, tr_y)\n",
    "    \n",
    "    val_pred = np.expm1(hgb.predict(val_x))\n",
    "    val_rmse = np.sqrt(mean_squared_error(val_y, val_pred))\n",
    "    hgb_val.append(val_rmse)\n",
    "    print(f'{n + 1} FOLD RMSE = {val_rmse}')\n",
    "\n",
    "    fold_pred = hgb.predict(test_copy) / 10\n",
    "    hgb_pred += fold_pred\n",
    "print(f'10FOLD Mean of RMSE = {np.mean(hgb_val)}')"
   ]
  },
  {
   "cell_type": "code",
   "execution_count": 32,
   "id": "7b1b6dea-d582-4499-b4ec-ab2f742ebf5d",
   "metadata": {},
   "outputs": [
    {
     "name": "stdout",
     "output_type": "stream",
     "text": [
      "1 FOLD RMSE = 585659.0897915956\n",
      "2 FOLD RMSE = 524209.96740416466\n",
      "3 FOLD RMSE = 404829.40147517517\n",
      "4 FOLD RMSE = 399969.8628614627\n",
      "5 FOLD RMSE = 414891.91612469405\n",
      "6 FOLD RMSE = 345503.2062614265\n",
      "7 FOLD RMSE = 353168.7563634851\n",
      "8 FOLD RMSE = 399356.7809365679\n",
      "9 FOLD RMSE = 561121.161849911\n",
      "10 FOLD RMSE = 531232.9164383676\n",
      "10FOLD Mean of RMSE = 451994.30595068505\n"
     ]
    }
   ],
   "source": [
    "# NGBRegressor\n",
    "ngb_pred = np.zeros(test_copy.shape[0])\n",
    "ngb_val = []\n",
    "for n, (tr_idx, val_idx) in enumerate(kf.split(train_copy, target)) :\n",
    "    tr_x, tr_y = train_copy.iloc[tr_idx], target.iloc[tr_idx]\n",
    "    val_x, val_y = train_copy.iloc[val_idx], np.expm1(target.iloc[val_idx])\n",
    "    \n",
    "    ngb = NGBRegressor(random_state=42,verbose=0,n_estimators=600,learning_rate=0.1)\n",
    "    ngb.fit(tr_x, tr_y)\n",
    "    \n",
    "    val_pred = np.expm1(ngb.predict(val_x))\n",
    "    val_rmse = np.sqrt(mean_squared_error(val_y, val_pred))\n",
    "    ngb_val.append(val_rmse)\n",
    "    print(f'{n + 1} FOLD RMSE = {val_rmse}')\n",
    "\n",
    "    fold_pred = ngb.predict(test_copy) / 10\n",
    "    ngb_pred += fold_pred\n",
    "print(f'10FOLD Mean of RMSE = {np.mean(ngb_val)}')"
   ]
  },
  {
   "cell_type": "code",
   "execution_count": 63,
   "id": "84b0d49b-8c17-4865-96b8-efb625c48521",
   "metadata": {},
   "outputs": [
    {
     "name": "stdout",
     "output_type": "stream",
     "text": [
      "0:\tlearn: 1.2766564\ttest: 7384656.5935179\tbest: 7384656.5935179 (0)\ttotal: 1.74ms\tremaining: 869ms\n",
      "499:\tlearn: 0.0514141\ttest: 7384655.7753763\tbest: 7384655.7753763 (499)\ttotal: 790ms\tremaining: 0us\n",
      "\n",
      "bestTest = 7384655.775\n",
      "bestIteration = 499\n",
      "\n",
      "1 FOLD RMSE = 429337.3282684079\n",
      "0:\tlearn: 1.2790082\ttest: 7319276.2833160\tbest: 7319276.2833160 (0)\ttotal: 1.96ms\tremaining: 980ms\n",
      "499:\tlearn: 0.0512558\ttest: 7319275.4660577\tbest: 7319275.4660430 (497)\ttotal: 774ms\tremaining: 0us\n",
      "\n",
      "bestTest = 7319275.466\n",
      "bestIteration = 497\n",
      "\n",
      "Shrink model to first 498 iterations.\n",
      "2 FOLD RMSE = 1028504.2878411263\n",
      "0:\tlearn: 1.2870015\ttest: 5698484.4504983\tbest: 5698484.4504983 (0)\ttotal: 2.04ms\tremaining: 1.02s\n",
      "499:\tlearn: 0.0507355\ttest: 5698483.6296615\tbest: 5698483.6296360 (488)\ttotal: 773ms\tremaining: 0us\n",
      "\n",
      "bestTest = 5698483.63\n",
      "bestIteration = 488\n",
      "\n",
      "Shrink model to first 489 iterations.\n",
      "3 FOLD RMSE = 392132.40549606376\n",
      "0:\tlearn: 1.2861489\ttest: 5952005.0454509\tbest: 5952005.0454509 (0)\ttotal: 1.77ms\tremaining: 885ms\n",
      "499:\tlearn: 0.0504894\ttest: 5952004.1824408\tbest: 5952004.1822920 (472)\ttotal: 776ms\tremaining: 0us\n",
      "\n",
      "bestTest = 5952004.182\n",
      "bestIteration = 472\n",
      "\n",
      "Shrink model to first 473 iterations.\n",
      "4 FOLD RMSE = 450466.1198112649\n",
      "0:\tlearn: 1.2867800\ttest: 5954762.0359090\tbest: 5954762.0359090 (0)\ttotal: 2.33ms\tremaining: 1.17s\n",
      "499:\tlearn: 0.0512857\ttest: 5954761.1920909\tbest: 5954761.1918432 (324)\ttotal: 861ms\tremaining: 0us\n",
      "\n",
      "bestTest = 5954761.192\n",
      "bestIteration = 324\n",
      "\n",
      "Shrink model to first 325 iterations.\n",
      "5 FOLD RMSE = 429161.70453600556\n",
      "0:\tlearn: 1.2885429\ttest: 5990343.0318420\tbest: 5990343.0318420 (0)\ttotal: 1.97ms\tremaining: 983ms\n",
      "499:\tlearn: 0.0507442\ttest: 5990342.2280947\tbest: 5990342.2280770 (493)\ttotal: 789ms\tremaining: 0us\n",
      "\n",
      "bestTest = 5990342.228\n",
      "bestIteration = 493\n",
      "\n",
      "Shrink model to first 494 iterations.\n",
      "6 FOLD RMSE = 334090.0271815869\n",
      "0:\tlearn: 1.2822549\ttest: 6236312.9716891\tbest: 6236312.9716891 (0)\ttotal: 1.8ms\tremaining: 896ms\n",
      "499:\tlearn: 0.0513340\ttest: 6236312.2138125\tbest: 6236312.2134871 (325)\ttotal: 768ms\tremaining: 0us\n",
      "\n",
      "bestTest = 6236312.213\n",
      "bestIteration = 325\n",
      "\n",
      "Shrink model to first 326 iterations.\n",
      "7 FOLD RMSE = 375922.85845152993\n",
      "0:\tlearn: 1.2806637\ttest: 7066870.7158524\tbest: 7066870.7158524 (0)\ttotal: 1.89ms\tremaining: 946ms\n",
      "499:\tlearn: 0.0508846\ttest: 7066869.8984082\tbest: 7066869.8983543 (491)\ttotal: 772ms\tremaining: 0us\n",
      "\n",
      "bestTest = 7066869.898\n",
      "bestIteration = 491\n",
      "\n",
      "Shrink model to first 492 iterations.\n",
      "8 FOLD RMSE = 390099.45793706074\n",
      "0:\tlearn: 1.2869781\ttest: 6886259.1204184\tbest: 6886259.1204184 (0)\ttotal: 1.36ms\tremaining: 679ms\n",
      "499:\tlearn: 0.0518875\ttest: 6886258.3140804\tbest: 6886258.3137656 (312)\ttotal: 775ms\tremaining: 0us\n",
      "\n",
      "bestTest = 6886258.314\n",
      "bestIteration = 312\n",
      "\n",
      "Shrink model to first 313 iterations.\n",
      "9 FOLD RMSE = 542092.505647315\n",
      "0:\tlearn: 1.2874132\ttest: 5891883.8045120\tbest: 5891883.8045120 (0)\ttotal: 1.85ms\tremaining: 923ms\n",
      "499:\tlearn: 0.0512504\ttest: 5891883.0321814\tbest: 5891883.0321307 (490)\ttotal: 778ms\tremaining: 0us\n",
      "\n",
      "bestTest = 5891883.032\n",
      "bestIteration = 490\n",
      "\n",
      "Shrink model to first 491 iterations.\n",
      "10 FOLD RMSE = 396978.8899956024\n",
      "10FOLD Mean of NMAE = 476878.55851659627\n"
     ]
    }
   ],
   "source": [
    "# CatBoostRegressor\n",
    "cat_pred = np.zeros(test_copy.shape[0])\n",
    "cat_val = []\n",
    "for n, (tr_idx, val_idx) in enumerate(kf.split(train_copy, target)) :\n",
    "    tr_x, tr_y = train_copy.iloc[tr_idx], target.iloc[tr_idx]\n",
    "    val_x, val_y = train_copy.iloc[val_idx], np.expm1(target.iloc[val_idx])\n",
    "    \n",
    "    tr_data = Pool(data = tr_x, label = tr_y)\n",
    "    val_data = Pool(data = val_x, label = val_y)\n",
    "    \n",
    "    # cat = CatBoostRegressor(random_state=42,verbose=0,depth=5,learning_rate=0.1) #최고 점수 하이퍼파라미터\n",
    "    # cat = CatBoostRegressor(random_state=42,verbose=0,depth=6,learning_rate=0.1)\n",
    "    cat = CatBoostRegressor(random_state=42,verbose=0,depth=6,n_estimators=500,learning_rate=0.1)\n",
    "    cat.fit(tr_data, eval_set = val_data, early_stopping_rounds = 750, verbose = 1000)\n",
    "    \n",
    "    val_pred = np.expm1(cat.predict(val_x))\n",
    "    val_rmse = np.sqrt(mean_squared_error(val_y, val_pred))\n",
    "    cat_val.append(val_rmse)\n",
    "    print(f'{n + 1} FOLD RMSE = {val_rmse}')\n",
    "    \n",
    "    target_data = Pool(data = test_copy, label = None)\n",
    "    fold_pred = cat.predict(test_copy) / 10\n",
    "    cat_pred += fold_pred\n",
    "print(f'10FOLD Mean of NMAE = {np.mean(cat_val)}')"
   ]
  },
  {
   "cell_type": "markdown",
   "id": "5eefc19c-ed11-479f-bded-8a6ea4a6b874",
   "metadata": {},
   "source": [
    "* 검증 성능 확인하기"
   ]
  },
  {
   "cell_type": "code",
   "execution_count": 47,
   "id": "47a4d0b3-4899-4dac-b7fd-1eab562d1963",
   "metadata": {},
   "outputs": [
    {
     "name": "stdout",
     "output_type": "stream",
     "text": [
      "788277.26427872\n",
      "750473.07826320\n",
      "550291.74435888\n",
      "548588.70634645\n",
      "583569.71866472\n",
      "590811.53646017\n",
      "451994.30595069\n",
      "476878.55851660\n"
     ]
    }
   ],
   "source": [
    "val_list = [etr_val, rf_val, gbr_val, xgb_val, lgb_val, hgb_val, ngb_val, cat_val]\n",
    "for val in val_list:\n",
    "    print(\"{:.8f}\".format(np.mean(val)))"
   ]
  },
  {
   "cell_type": "markdown",
   "id": "43f2fb08-31b1-46a7-a6f4-5f3d061dc1c1",
   "metadata": {},
   "source": [
    "### 성능이 좋은 GBR, XGB, NGB, CAT 산술평균"
   ]
  },
  {
   "cell_type": "code",
   "execution_count": 43,
   "id": "054c4df4-6c8f-43c2-bf0f-942abb00e217",
   "metadata": {},
   "outputs": [
    {
     "data": {
      "text/html": [
       "<div>\n",
       "<style scoped>\n",
       "    .dataframe tbody tr th:only-of-type {\n",
       "        vertical-align: middle;\n",
       "    }\n",
       "\n",
       "    .dataframe tbody tr th {\n",
       "        vertical-align: top;\n",
       "    }\n",
       "\n",
       "    .dataframe thead th {\n",
       "        text-align: right;\n",
       "    }\n",
       "</style>\n",
       "<table border=\"1\" class=\"dataframe\">\n",
       "  <thead>\n",
       "    <tr style=\"text-align: right;\">\n",
       "      <th></th>\n",
       "      <th>id</th>\n",
       "      <th>value</th>\n",
       "    </tr>\n",
       "  </thead>\n",
       "  <tbody>\n",
       "    <tr>\n",
       "      <th>0</th>\n",
       "      <td>1</td>\n",
       "      <td>7.625804e+07</td>\n",
       "    </tr>\n",
       "    <tr>\n",
       "      <th>1</th>\n",
       "      <td>2</td>\n",
       "      <td>9.555855e+07</td>\n",
       "    </tr>\n",
       "    <tr>\n",
       "      <th>2</th>\n",
       "      <td>4</td>\n",
       "      <td>8.019696e+07</td>\n",
       "    </tr>\n",
       "    <tr>\n",
       "      <th>3</th>\n",
       "      <td>5</td>\n",
       "      <td>8.339690e+07</td>\n",
       "    </tr>\n",
       "    <tr>\n",
       "      <th>4</th>\n",
       "      <td>6</td>\n",
       "      <td>6.432155e+07</td>\n",
       "    </tr>\n",
       "    <tr>\n",
       "      <th>...</th>\n",
       "      <td>...</td>\n",
       "      <td>...</td>\n",
       "    </tr>\n",
       "    <tr>\n",
       "      <th>3823</th>\n",
       "      <td>16924</td>\n",
       "      <td>5.743668e+04</td>\n",
       "    </tr>\n",
       "    <tr>\n",
       "      <th>3824</th>\n",
       "      <td>16929</td>\n",
       "      <td>4.550794e+04</td>\n",
       "    </tr>\n",
       "    <tr>\n",
       "      <th>3825</th>\n",
       "      <td>16932</td>\n",
       "      <td>5.487842e+04</td>\n",
       "    </tr>\n",
       "    <tr>\n",
       "      <th>3826</th>\n",
       "      <td>16937</td>\n",
       "      <td>4.739486e+04</td>\n",
       "    </tr>\n",
       "    <tr>\n",
       "      <th>3827</th>\n",
       "      <td>16943</td>\n",
       "      <td>4.807256e+04</td>\n",
       "    </tr>\n",
       "  </tbody>\n",
       "</table>\n",
       "<p>3828 rows × 2 columns</p>\n",
       "</div>"
      ],
      "text/plain": [
       "         id         value\n",
       "0         1  7.625804e+07\n",
       "1         2  9.555855e+07\n",
       "2         4  8.019696e+07\n",
       "3         5  8.339690e+07\n",
       "4         6  6.432155e+07\n",
       "...     ...           ...\n",
       "3823  16924  5.743668e+04\n",
       "3824  16929  4.550794e+04\n",
       "3825  16932  5.487842e+04\n",
       "3826  16937  4.739486e+04\n",
       "3827  16943  4.807256e+04\n",
       "\n",
       "[3828 rows x 2 columns]"
      ]
     },
     "execution_count": 43,
     "metadata": {},
     "output_type": "execute_result"
    }
   ],
   "source": [
    "submission['value'] = (np.expm1(gbr_pred) + np.expm1(xgb_pred) + np.expm1(ngb_pred) + np.expm1(cat_pred)) / 4\n",
    "submission\n",
    "# submission.to_csv('gbr xgb ngb cat rmse hyper.csv',index=False)"
   ]
  },
  {
   "cell_type": "markdown",
   "id": "769175fa-9314-4fcf-a604-5242efe23656",
   "metadata": {},
   "source": [
    "# 성능이 가장 좋은 catboost만 이용"
   ]
  },
  {
   "cell_type": "code",
   "execution_count": 64,
   "id": "1110cf5b-e960-4b00-b573-a92998b21d48",
   "metadata": {},
   "outputs": [
    {
     "data": {
      "text/html": [
       "<div>\n",
       "<style scoped>\n",
       "    .dataframe tbody tr th:only-of-type {\n",
       "        vertical-align: middle;\n",
       "    }\n",
       "\n",
       "    .dataframe tbody tr th {\n",
       "        vertical-align: top;\n",
       "    }\n",
       "\n",
       "    .dataframe thead th {\n",
       "        text-align: right;\n",
       "    }\n",
       "</style>\n",
       "<table border=\"1\" class=\"dataframe\">\n",
       "  <thead>\n",
       "    <tr style=\"text-align: right;\">\n",
       "      <th></th>\n",
       "      <th>id</th>\n",
       "      <th>value</th>\n",
       "    </tr>\n",
       "  </thead>\n",
       "  <tbody>\n",
       "    <tr>\n",
       "      <th>0</th>\n",
       "      <td>1</td>\n",
       "      <td>5.922038e+07</td>\n",
       "    </tr>\n",
       "    <tr>\n",
       "      <th>1</th>\n",
       "      <td>2</td>\n",
       "      <td>9.716955e+07</td>\n",
       "    </tr>\n",
       "    <tr>\n",
       "      <th>2</th>\n",
       "      <td>4</td>\n",
       "      <td>8.190169e+07</td>\n",
       "    </tr>\n",
       "    <tr>\n",
       "      <th>3</th>\n",
       "      <td>5</td>\n",
       "      <td>8.532303e+07</td>\n",
       "    </tr>\n",
       "    <tr>\n",
       "      <th>4</th>\n",
       "      <td>6</td>\n",
       "      <td>6.349409e+07</td>\n",
       "    </tr>\n",
       "    <tr>\n",
       "      <th>...</th>\n",
       "      <td>...</td>\n",
       "      <td>...</td>\n",
       "    </tr>\n",
       "    <tr>\n",
       "      <th>3823</th>\n",
       "      <td>16924</td>\n",
       "      <td>5.857539e+04</td>\n",
       "    </tr>\n",
       "    <tr>\n",
       "      <th>3824</th>\n",
       "      <td>16929</td>\n",
       "      <td>4.667115e+04</td>\n",
       "    </tr>\n",
       "    <tr>\n",
       "      <th>3825</th>\n",
       "      <td>16932</td>\n",
       "      <td>5.725702e+04</td>\n",
       "    </tr>\n",
       "    <tr>\n",
       "      <th>3826</th>\n",
       "      <td>16937</td>\n",
       "      <td>5.304603e+04</td>\n",
       "    </tr>\n",
       "    <tr>\n",
       "      <th>3827</th>\n",
       "      <td>16943</td>\n",
       "      <td>5.071145e+04</td>\n",
       "    </tr>\n",
       "  </tbody>\n",
       "</table>\n",
       "<p>3828 rows × 2 columns</p>\n",
       "</div>"
      ],
      "text/plain": [
       "         id         value\n",
       "0         1  5.922038e+07\n",
       "1         2  9.716955e+07\n",
       "2         4  8.190169e+07\n",
       "3         5  8.532303e+07\n",
       "4         6  6.349409e+07\n",
       "...     ...           ...\n",
       "3823  16924  5.857539e+04\n",
       "3824  16929  4.667115e+04\n",
       "3825  16932  5.725702e+04\n",
       "3826  16937  5.304603e+04\n",
       "3827  16943  5.071145e+04\n",
       "\n",
       "[3828 rows x 2 columns]"
      ]
     },
     "execution_count": 64,
     "metadata": {},
     "output_type": "execute_result"
    }
   ],
   "source": [
    "submission['value'] = np.expm1(cat_pred)\n",
    "submission\n",
    "# submission.to_csv('cat rmse hyper depth6.csv',index=False)"
   ]
  },
  {
   "cell_type": "markdown",
   "id": "7b8b1054-393d-4de6-a514-bd4151915604",
   "metadata": {},
   "source": [
    "---"
   ]
  },
  {
   "cell_type": "markdown",
   "id": "caf7931b-18a0-43cf-9319-f2c34fd2d5c7",
   "metadata": {
    "tags": []
   },
   "source": [
    "# learning curve"
   ]
  },
  {
   "cell_type": "code",
   "execution_count": 19,
   "id": "8287d9d6-4175-4530-aa5e-95709656c342",
   "metadata": {},
   "outputs": [
    {
     "name": "stdout",
     "output_type": "stream",
     "text": [
      "Mean training scores\n",
      "\n",
      " 1       2.065271e-11\n",
      "100     5.943243e-06\n",
      "500     1.076223e-04\n",
      "2000    1.140072e-03\n",
      "5000    1.721186e-03\n",
      "7145    1.910344e-03\n",
      "dtype: float64\n",
      "\n",
      " --------------------\n",
      "\n",
      "Mean validation scores\n",
      "\n",
      " 1       23.043815\n",
      "100     11.836826\n",
      "500      6.909645\n",
      "2000     2.690348\n",
      "5000     0.601019\n",
      "7145     0.312729\n",
      "dtype: float64\n"
     ]
    },
    {
     "data": {
      "text/plain": [
       "(0.0, 24.0)"
      ]
     },
     "execution_count": 19,
     "metadata": {},
     "output_type": "execute_result"
    },
    {
     "data": {
      "image/png": "[encoded data removed]",
      "text/plain": [
       "<Figure size 576x396 with 1 Axes>"
      ]
     },
     "metadata": {},
     "output_type": "display_data"
    }
   ],
   "source": [
    "train_sizes = [1,100, 500, 2000, 5000, 7145]\n",
    "\n",
    "train_sizes, train_scores, validation_scores = learning_curve(\n",
    "estimator = xgb.XGBRegressor(),\n",
    "X = train_copy[train_copy.columns],\n",
    "y = target, train_sizes = train_sizes, cv = 5,\n",
    "scoring = 'neg_mean_squared_error')\n",
    "\n",
    "# print('Training scores:\\n\\n', train_scores)\n",
    "# print('\\n', '-' * 70) # separator to make the output easy to read\n",
    "# print('\\nValidation scores:\\n\\n', validation_scores)\n",
    "\n",
    "train_scores_mean = -train_scores.mean(axis = 1)\n",
    "validation_scores_mean = -validation_scores.mean(axis = 1)\n",
    "print('Mean training scores\\n\\n', pd.Series(train_scores_mean, index = train_sizes))\n",
    "print('\\n', '-' * 20) # separator\n",
    "print('\\nMean validation scores\\n\\n',pd.Series(validation_scores_mean, index = train_sizes))\n",
    "\n",
    "plt.style.use('seaborn')\n",
    "plt.plot(train_sizes, train_scores_mean, label = 'Training error')\n",
    "plt.plot(train_sizes, validation_scores_mean, label = 'Validation error')\n",
    "plt.ylabel('MSE', fontsize = 14)\n",
    "plt.xlabel('Training set size', fontsize = 14)\n",
    "plt.title('Learning curves for a linear XGBRegressor model', fontsize = 18, y = 1.03)\n",
    "plt.legend()\n",
    "plt.ylim(0,24)"
   ]
  },
  {
   "cell_type": "markdown",
   "id": "13ceab24-35a2-43f8-8f7f-98995cfd3a9e",
   "metadata": {},
   "source": [
    "---\n",
    "하이퍼 파라미터"
   ]
  },
  {
   "cell_type": "code",
   "execution_count": 20,
   "id": "cc4746ad-0c08-4472-99e9-490731c2d923",
   "metadata": {},
   "outputs": [
    {
     "name": "stdout",
     "output_type": "stream",
     "text": [
      "Mean training scores\n",
      "\n",
      " 1       301.344878\n",
      "100       0.000306\n",
      "500       0.001326\n",
      "2000      0.002553\n",
      "5000      0.003213\n",
      "7145      0.003485\n",
      "dtype: float64\n",
      "\n",
      " --------------------\n",
      "\n",
      "Mean validation scores\n",
      "\n",
      " 1       178.684252\n",
      "100      11.777511\n",
      "500       6.790158\n",
      "2000      2.601594\n",
      "5000      0.564901\n",
      "7145      0.286191\n",
      "dtype: float64\n"
     ]
    },
    {
     "data": {
      "text/plain": [
       "(0.0, 12.0)"
      ]
     },
     "execution_count": 20,
     "metadata": {},
     "output_type": "execute_result"
    },
    {
     "data": {
      "image/png": "[encoded data removed]",
      "text/plain": [
       "<Figure size 576x396 with 1 Axes>"
      ]
     },
     "metadata": {},
     "output_type": "display_data"
    }
   ],
   "source": [
    "train_sizes = [1,100, 500, 2000, 5000, 7145]\n",
    "\n",
    "train_sizes, train_scores, validation_scores = learning_curve(\n",
    "estimator = xgb.XGBRegressor(learning_rate = 0.1,\n",
    "                             n_estimators=1000,\n",
    "                             max_depth=3,\n",
    "                             min_child_weight=5,\n",
    "                             gamma=0,\n",
    "                             # reg_alpah=1e-05,\n",
    "                             subsample=0.71,\n",
    "                             colsample_bytree=0.6,\n",
    "                             # objective='reg:linear',\n",
    "                             nthread=-1,\n",
    "                             scale_pos_weight=1,\n",
    "                             seed=42),\n",
    "X = train_copy[train_copy.columns],\n",
    "y = target, train_sizes = train_sizes, cv = 5,\n",
    "scoring = 'neg_mean_squared_error')\n",
    "\n",
    "# print('Training scores:\\n\\n', train_scores)\n",
    "# print('\\n', '-' * 70) # separator to make the output easy to read\n",
    "# print('\\nValidation scores:\\n\\n', validation_scores)\n",
    "\n",
    "train_scores_mean = -train_scores.mean(axis = 1)\n",
    "validation_scores_mean = -validation_scores.mean(axis = 1)\n",
    "print('Mean training scores\\n\\n', pd.Series(train_scores_mean, index = train_sizes))\n",
    "print('\\n', '-' * 20) # separator\n",
    "print('\\nMean validation scores\\n\\n',pd.Series(validation_scores_mean, index = train_sizes))\n",
    "\n",
    "plt.style.use('seaborn')\n",
    "plt.plot(train_sizes, train_scores_mean, label = 'Training error')\n",
    "plt.plot(train_sizes, validation_scores_mean, label = 'Validation error')\n",
    "plt.ylabel('MSE', fontsize = 14)\n",
    "plt.xlabel('Training set size', fontsize = 14)\n",
    "plt.title('Learning curves for a linear XGBRegressor model', fontsize = 18, y = 1.03)\n",
    "plt.legend()\n",
    "plt.ylim(0,12)"
   ]
  },
  {
   "cell_type": "code",
   "execution_count": null,
   "id": "d8910504-868a-41aa-9f34-3a360f33cb49",
   "metadata": {},
   "outputs": [],
   "source": []
  }
 ],
 "metadata": {
  "kernelspec": {
   "display_name": "Python 3 (ipykernel)",
   "language": "python",
   "name": "python3"
  },
  "language_info": {
   "codemirror_mode": {
    "name": "ipython",
    "version": 3
   },
   "file_extension": ".py",
   "mimetype": "text/x-python",
   "name": "python",
   "nbconvert_exporter": "python",
   "pygments_lexer": "ipython3",
   "version": "3.9.7"
  }
 },
 "nbformat": 4,
 "nbformat_minor": 5
}
